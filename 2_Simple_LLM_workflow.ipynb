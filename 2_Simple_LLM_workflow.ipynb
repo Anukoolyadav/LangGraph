{
 "cells": [
  {
   "cell_type": "code",
   "execution_count": 2,
   "id": "0e949481",
   "metadata": {},
   "outputs": [],
   "source": [
    "from langgraph.graph import StateGraph,START,END\n",
    "from langchain_google_genai import ChatGoogleGenerativeAI\n",
    "from dotenv import load_dotenv\n",
    "from typing import TypedDict"
   ]
  },
  {
   "cell_type": "code",
   "execution_count": 3,
   "id": "a8954095",
   "metadata": {},
   "outputs": [],
   "source": [
    "import os\n",
    "load_dotenv()\n",
    "api_key = os.getenv(\"GOOGLE_API_KEY\")  # Make sure your .env has GOOGLE_API_KEY\n",
    "\n",
    "model = ChatGoogleGenerativeAI(google_api_key=api_key, model=\"gemini-1.5-flash\")\n"
   ]
  },
  {
   "cell_type": "code",
   "execution_count": 4,
   "id": "c424622d",
   "metadata": {},
   "outputs": [],
   "source": [
    "#create state\n",
    "class LLMState(TypedDict):\n",
    "\n",
    "    question:str\n",
    "    answer:str\n"
   ]
  },
  {
   "cell_type": "code",
   "execution_count": 5,
   "id": "9da79ef8",
   "metadata": {},
   "outputs": [],
   "source": [
    "def llm_qa(state:LLMState)->LLMState:\n",
    "    #extract the question from state\n",
    "    question=state['question']\n",
    "\n",
    "    #form a prompt\n",
    "    prompt=f'Answer the following question{question}'\n",
    "\n",
    "    #ask that question to the LLM\n",
    "    answer=model.invoke(prompt).content\n",
    "\n",
    "    #update the answer in the state\n",
    "    state['answer']=answer\n",
    "    \n",
    "    return state"
   ]
  },
  {
   "cell_type": "code",
   "execution_count": 6,
   "id": "0ef939a0",
   "metadata": {},
   "outputs": [],
   "source": [
    "#create graph\n",
    "graph=StateGraph(LLMState)\n",
    "\n",
    "#add nodes\n",
    "graph.add_node('llm_qa',llm_qa)\n",
    "#add edges\n",
    "graph.add_edge(START,'llm_qa')\n",
    "graph.add_edge('llm_qa',END)\n",
    "#compile graph\n",
    "workflow=graph.compile()"
   ]
  },
  {
   "cell_type": "code",
   "execution_count": 7,
   "id": "def68ff4",
   "metadata": {},
   "outputs": [
    {
     "name": "stdout",
     "output_type": "stream",
     "text": [
      "{'question': '33+22', 'answer': '33 + 22 = 55'}\n"
     ]
    }
   ],
   "source": [
    "initial_state={'question':'33+22'}\n",
    "final_state=workflow.invoke(initial_state)\n",
    "\n",
    "print(final_state)"
   ]
  },
  {
   "cell_type": "code",
   "execution_count": 8,
   "id": "88c3bf45",
   "metadata": {},
   "outputs": [
    {
     "data": {
      "text/plain": [
       "'The distance between Delhi and Jalandhar is approximately **270 miles (435 kilometers)**.  This can vary slightly depending on the specific routes taken.'"
      ]
     },
     "execution_count": 8,
     "metadata": {},
     "output_type": "execute_result"
    }
   ],
   "source": [
    "model.invoke('how far is delhi from jalandhar in miles').content"
   ]
  }
 ],
 "metadata": {
  "kernelspec": {
   "display_name": ".venv",
   "language": "python",
   "name": "python3"
  },
  "language_info": {
   "codemirror_mode": {
    "name": "ipython",
    "version": 3
   },
   "file_extension": ".py",
   "mimetype": "text/x-python",
   "name": "python",
   "nbconvert_exporter": "python",
   "pygments_lexer": "ipython3",
   "version": "3.13.3"
  }
 },
 "nbformat": 4,
 "nbformat_minor": 5
}
