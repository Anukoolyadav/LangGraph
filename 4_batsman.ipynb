{
 "cells": [
  {
   "cell_type": "code",
   "execution_count": 22,
   "id": "9a1ad4b3",
   "metadata": {},
   "outputs": [],
   "source": [
    "from langgraph.graph import StateGraph , START,END\n",
    "from typing import TypedDict"
   ]
  },
  {
   "cell_type": "code",
   "execution_count": 15,
   "id": "ccc071e2",
   "metadata": {},
   "outputs": [],
   "source": [
    "class BatsmanState(TypedDict):\n",
    "\n",
    "    runs: int\n",
    "    balls: int\n",
    "    fours: int\n",
    "    sixes: int\n",
    "\n",
    "    sr: float\n",
    "    bpb: float\n",
    "    bP: float\n",
    "    summary:str\n"
   ]
  },
  {
   "cell_type": "code",
   "execution_count": 16,
   "id": "b834cfa7",
   "metadata": {},
   "outputs": [],
   "source": [
    "def StrikeRate(state:BatsmanState)->BatsmanState:\n",
    "    runs=state['runs']\n",
    "    balls=state['balls']\n",
    "    strike=runs*100/balls\n",
    "    \n",
    "    return {'sr': strike}"
   ]
  },
  {
   "cell_type": "code",
   "execution_count": 17,
   "id": "a7399676",
   "metadata": {},
   "outputs": [],
   "source": [
    "def BPB(state:BatsmanState)->BatsmanState:\n",
    "    bpb=state['balls']/(state['sixes']+state['fours'])\n",
    "    \n",
    "    return {'bpb':bpb}"
   ]
  },
  {
   "cell_type": "code",
   "execution_count": 18,
   "id": "37c27df4",
   "metadata": {},
   "outputs": [],
   "source": [
    "def BallsPer(state:BatsmanState)->BatsmanState:\n",
    "    bP=(((state['fours']*4)+(state['sixes']*6))/(state['runs']))*100\n",
    "    \n",
    "    \n",
    "    return {'bP':bP}"
   ]
  },
  {
   "cell_type": "code",
   "execution_count": 19,
   "id": "72aeea33",
   "metadata": {},
   "outputs": [],
   "source": [
    "def GenerateSummary(state:BatsmanState):\n",
    "    summary=f\"\"\"\n",
    "Strike Rate : {state['sr']}\\n\n",
    "Balls Per Boundry : {state['bpb']}\\n\n",
    "Boundry Percent : {state['bP']}\n",
    "\"\"\"\n",
    "    return {'summary':summary}"
   ]
  },
  {
   "cell_type": "code",
   "execution_count": 26,
   "id": "fa69e624",
   "metadata": {},
   "outputs": [],
   "source": [
    "graph=StateGraph(BatsmanState)\n",
    "#add nodes\n",
    "graph.add_node('StrikeRate',StrikeRate)\n",
    "graph.add_node('BPB',BPB)\n",
    "graph.add_node('BallsPer',BallsPer)\n",
    "graph.add_node('summary',GenerateSummary)\n",
    "#add edges\n",
    "graph.add_edge(START,'StrikeRate')\n",
    "graph.add_edge(START,'BPB')\n",
    "graph.add_edge(START,'BallsPer')\n",
    "graph.add_edge('StrikeRate','summary')\n",
    "graph.add_edge('BPB','summary')\n",
    "graph.add_edge('BallsPer','summary')\n",
    "graph.add_edge('summary',END)\n",
    "\n",
    "\n",
    "workflow=graph.compile()"
   ]
  },
  {
   "cell_type": "code",
   "execution_count": 29,
   "id": "2131dd8e",
   "metadata": {},
   "outputs": [],
   "source": [
    "initial_state={'runs':100,\n",
    "               'balls':50,\n",
    "               'fours':6,\n",
    "               'sixes':4}\n",
    "\n",
    "final_state=workflow.invoke(initial_state)"
   ]
  },
  {
   "cell_type": "code",
   "execution_count": 30,
   "id": "95479f0f",
   "metadata": {},
   "outputs": [
    {
     "name": "stdout",
     "output_type": "stream",
     "text": [
      "{'runs': 100, 'balls': 50, 'fours': 6, 'sixes': 4, 'sr': 200.0, 'bpb': 5.0, 'bP': 48.0, 'summary': '\\nStrike Rate : 200.0\\n\\nBalls Per Boundry : 5.0\\n\\nBoundry Percent : 48.0\\n'}\n"
     ]
    }
   ],
   "source": [
    "print(final_state)"
   ]
  },
  {
   "cell_type": "code",
   "execution_count": null,
   "id": "8142082f",
   "metadata": {},
   "outputs": [],
   "source": []
  }
 ],
 "metadata": {
  "kernelspec": {
   "display_name": "venv",
   "language": "python",
   "name": "python3"
  },
  "language_info": {
   "codemirror_mode": {
    "name": "ipython",
    "version": 3
   },
   "file_extension": ".py",
   "mimetype": "text/x-python",
   "name": "python",
   "nbconvert_exporter": "python",
   "pygments_lexer": "ipython3",
   "version": "3.13.3"
  }
 },
 "nbformat": 4,
 "nbformat_minor": 5
}
