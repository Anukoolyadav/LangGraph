{
 "cells": [
  {
   "cell_type": "code",
   "execution_count": null,
   "id": "4b33d1c4",
   "metadata": {},
   "outputs": [],
   "source": [
    "from langgraph.graph import StateGraph,START,END\n",
    "from typing import TypedDict,Annotated\n",
    "from langchain_core.messages import HumanMessage,SystemMessage,BaseMessage\n",
    "from langchain_google_genai import ChatGoogleGenerativeAI\n",
    "from dotenv import load_dotenv\n",
    "import os"
   ]
  },
  {
   "cell_type": "code",
   "execution_count": 10,
   "id": "868ec519",
   "metadata": {},
   "outputs": [],
   "source": [
    "load_dotenv()\n",
    "api_key=os.getenv(\"GEMINI_API_KEY\")\n",
    "model=ChatGoogleGenerativeAI(google_api_key=api_key,model=\"gemini-1.5-flash\")"
   ]
  },
  {
   "cell_type": "code",
   "execution_count": 11,
   "id": "6dfd7030",
   "metadata": {},
   "outputs": [
    {
     "data": {
      "text/plain": [
       "'Hi there! How can I help you today?'"
      ]
     },
     "execution_count": 11,
     "metadata": {},
     "output_type": "execute_result"
    }
   ],
   "source": [
    "model.invoke(\"HII\").content"
   ]
  },
  {
   "cell_type": "code",
   "execution_count": 12,
   "id": "759c59d0",
   "metadata": {},
   "outputs": [],
   "source": [
    "from langgraph.graph.message import add_messages\n",
    "class ChatState(TypedDict):\n",
    "    messages:Annotated[list[BaseMessage],add_messages]"
   ]
  },
  {
   "cell_type": "code",
   "execution_count": 13,
   "id": "2b817179",
   "metadata": {},
   "outputs": [],
   "source": [
    "def message_genrate(state:ChatState):\n",
    "    message=state['messages']\n",
    "    response=model.invoke(message).content\n",
    "    return {'messages':[response]}"
   ]
  },
  {
   "cell_type": "code",
   "execution_count": 17,
   "id": "4614086c",
   "metadata": {},
   "outputs": [
    {
     "data": {
      "image/png": "[encoded data removed]",
      "text/plain": [
       "<langgraph.graph.state.CompiledStateGraph object at 0x1304b82d0>"
      ]
     },
     "execution_count": 17,
     "metadata": {},
     "output_type": "execute_result"
    }
   ],
   "source": [
    "\n",
    "from langgraph.checkpoint.memory import MemorySaver\n",
    "checkpointer=MemorySaver()\n",
    "graph=StateGraph(ChatState)\n",
    "\n",
    "graph.add_node('message',message_genrate)\n",
    "\n",
    "graph.add_edge(START,'message')\n",
    "graph.add_edge('message',END)\n",
    "\n",
    "\n",
    "chatbot=graph.compile(checkpointer=checkpointer)\n",
    "chatbot"
   ]
  },
  {
   "cell_type": "code",
   "execution_count": null,
   "id": "5939b21f",
   "metadata": {},
   "outputs": [
    {
     "data": {
      "text/plain": [
       "'The capital of India is **New Delhi**.'"
      ]
     },
     "execution_count": 15,
     "metadata": {},
     "output_type": "execute_result"
    }
   ],
   "source": [
    "initial_msg={\n",
    "    'messages':[HumanMessage(content=\"What is the capital of india?\")]\n",
    "}\n",
    "chatbot.invoke(initial_msg)['messages'][-1].content\n"
   ]
  },
  {
   "cell_type": "code",
   "execution_count": 19,
   "id": "584abc4a",
   "metadata": {},
   "outputs": [
    {
     "name": "stdout",
     "output_type": "stream",
     "text": [
      "user :  hi\n",
      "AI :  Hi there!  How can I help you today?\n",
      "user :  how are \n",
      "AI :  I am doing well, thank you for asking!  How are you?\n",
      "user :  mu anj\n",
      "AI :  I'm glad to hear you're doing well!  Is there anything I can help you with today?\n",
      "user :  bye\n"
     ]
    }
   ],
   "source": [
    "thread_id=1\n",
    "while True:\n",
    "    user_msg=input(\"Input here : \")\n",
    "    print(\"user : \",user_msg)\n",
    "    if user_msg.strip().lower() in ['exit',\"quit\",'bye']:\n",
    "        break\n",
    "    config={'configurable':{'thread_id':thread_id}}\n",
    "    response=chatbot.invoke({'messages':HumanMessage(content=user_msg)},config=config)\n",
    "    print(\"AI : \",response['messages'][-1].content)\n",
    "\n",
    "# from langchain_core.messages import AIMessage, HumanMessage\n",
    "\n",
    "# # Initialize a list to hold the conversation history\n",
    "# conversation_history = []\n",
    "\n",
    "# while True:\n",
    "#     user_msg = input(\"Input here : \")\n",
    "#     if user_msg.strip().lower() in ['exit', 'quit', 'bye']:\n",
    "#         break\n",
    "\n",
    "#     # 1. Add the new user message to our history list\n",
    "#     conversation_history.append(HumanMessage(content=user_msg))\n",
    "\n",
    "#     # 2. Invoke the chatbot with the COMPLETE history\n",
    "#     #    The input to invoke should be the full ChatState dictionary\n",
    "#     response = chatbot.invoke({'messages': conversation_history})\n",
    "\n",
    "    # 3. The graph's output contains the full, updated history.\n",
    "    #    We update our external list to match this.\n",
    "    #    The last message is the new AI response.\n",
    "    # conversation_history = response['messages']\n",
    "    # ai_response = conversation_history[-1].content\n",
    "    \n",
    "    # print(\"AI : \", ai_response)"
   ]
  }
 ],
 "metadata": {
  "kernelspec": {
   "display_name": "venv",
   "language": "python",
   "name": "python3"
  },
  "language_info": {
   "codemirror_mode": {
    "name": "ipython",
    "version": 3
   },
   "file_extension": ".py",
   "mimetype": "text/x-python",
   "name": "python",
   "nbconvert_exporter": "python",
   "pygments_lexer": "ipython3",
   "version": "3.13.3"
  }
 },
 "nbformat": 4,
 "nbformat_minor": 5
}
